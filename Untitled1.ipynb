{
  "nbformat": 4,
  "nbformat_minor": 0,
  "metadata": {
    "colab": {
      "provenance": [],
      "authorship_tag": "ABX9TyO+uciaf2Pox8LIZKp4sCph",
      "include_colab_link": true
    },
    "kernelspec": {
      "name": "python3",
      "display_name": "Python 3"
    },
    "language_info": {
      "name": "python"
    }
  },
  "cells": [
    {
      "cell_type": "markdown",
      "metadata": {
        "id": "view-in-github",
        "colab_type": "text"
      },
      "source": [
        "<a href=\"https://colab.research.google.com/github/shawnteh1711/42KL-CP-Ft_containers/blob/main/Untitled1.ipynb\" target=\"_parent\"><img src=\"https://colab.research.google.com/assets/colab-badge.svg\" alt=\"Open In Colab\"/></a>"
      ]
    },
    {
      "cell_type": "markdown",
      "source": [
        "Import Libraries"
      ],
      "metadata": {
        "id": "glaqw-wG-BHd"
      }
    },
    {
      "cell_type": "code",
      "execution_count": 2,
      "metadata": {
        "colab": {
          "base_uri": "https://localhost:8080/"
        },
        "id": "JSYhZh8U9Bd3",
        "outputId": "3bc2d25f-e5ab-46bc-e815-aad198774297"
      },
      "outputs": [
        {
          "output_type": "stream",
          "name": "stdout",
          "text": [
            "TensorFlow version:  2.15.0\n"
          ]
        }
      ],
      "source": [
        "import tensorflow as tf\n",
        "print(\"TensorFlow version: \", tf.__version__)"
      ]
    },
    {
      "cell_type": "code",
      "source": [
        "from sklearn.datasets import load_breast_cancer\n",
        "from sklearn.model_selection import train_test_split\n",
        "from sklearn.preprocessing import StandardScaler"
      ],
      "metadata": {
        "id": "fvNiqZis9vvS"
      },
      "execution_count": 5,
      "outputs": []
    },
    {
      "cell_type": "markdown",
      "source": [
        "Load and Preprocess Data"
      ],
      "metadata": {
        "id": "7pLSbpDRErj3"
      }
    },
    {
      "cell_type": "code",
      "source": [
        "data = load_breast_cancer()\n",
        "X, y = (data.data, data.target)\n",
        "\n",
        "# print(data)\n",
        "# print(\"feature: \", X)\n",
        "# print(\"target: \", y)\n",
        "feature_names = data.feature_names\n",
        "# print(\"feature_names: \", feature_names)\n",
        "target_names = data.target_names\n",
        "# print(\"target_names: \", target_names)\n",
        "\n",
        "X_train, X_test, y_train, y_test = train_test_split(X, y, test_size=0.2, random_state=42)\n",
        "# print(\"X_train: \", X_train)\n",
        "# print(\"X_test: \", X_test)\n",
        "# print(\"y_train: \", y_train)\n",
        "# print(\"y_test: \", y_test)\n",
        "\n",
        "scaler = StandardScaler()\n",
        "X_train = scaler.fit_transform(X_train)\n",
        "# print(\"X_train: \", X_train)\n",
        "X_test = scaler.transform(X_test)"
      ],
      "metadata": {
        "colab": {
          "base_uri": "https://localhost:8080/"
        },
        "id": "WQhPnGoQ-LJO",
        "outputId": "8e490411-3691-47d3-b39a-bb19d49bc26f"
      },
      "execution_count": 20,
      "outputs": [
        {
          "output_type": "stream",
          "name": "stdout",
          "text": [
            "X_train:  [[-1.44075296 -0.43531947 -1.36208497 ...  0.9320124   2.09724217\n",
            "   1.88645014]\n",
            " [ 1.97409619  1.73302577  2.09167167 ...  2.6989469   1.89116053\n",
            "   2.49783848]\n",
            " [-1.39998202 -1.24962228 -1.34520926 ... -0.97023893  0.59760192\n",
            "   0.0578942 ]\n",
            " ...\n",
            " [ 0.04880192 -0.55500086 -0.06512547 ... -1.23903365 -0.70863864\n",
            "  -1.27145475]\n",
            " [-0.03896885  0.10207345 -0.03137406 ...  1.05001236  0.43432185\n",
            "   1.21336207]\n",
            " [-0.54860557  0.31327591 -0.60350155 ... -0.61102866 -0.3345212\n",
            "  -0.84628745]]\n"
          ]
        }
      ]
    },
    {
      "cell_type": "markdown",
      "source": [
        "Build a TensorFlow Model"
      ],
      "metadata": {
        "id": "NiwGu4lkI48c"
      }
    },
    {
      "cell_type": "code",
      "source": [
        "# print(\"X_train.shape[1]: \", X_train.shape[1])\n",
        "model = tf.keras.Sequential([\n",
        "    tf.keras.layers.Dense(64, activation='relu', input_shape=(X_train.shape[1],)),\n",
        "    tf.keras.layers.Dense(1, activation='sigmoid')\n",
        "])\n",
        "\n",
        "model.compile(optimizer='adam', loss='binary_crossentropy', metrics=['accuracy'])"
      ],
      "metadata": {
        "id": "hejT8l8P_jYM"
      },
      "execution_count": 22,
      "outputs": []
    }
  ]
}